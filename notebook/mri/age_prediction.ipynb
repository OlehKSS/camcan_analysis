{
 "cells": [
  {
   "cell_type": "markdown",
   "metadata": {},
   "source": [
    "# Cognitive Age Prediction with Structural and Functional MRI"
   ]
  },
  {
   "cell_type": "code",
   "execution_count": 17,
   "metadata": {},
   "outputs": [],
   "source": [
    "import joblib"
   ]
  },
  {
   "cell_type": "markdown",
   "metadata": {},
   "source": [
    "## Structural MRI"
   ]
  },
  {
   "cell_type": "code",
   "execution_count": null,
   "metadata": {},
   "outputs": [],
   "source": [
    "# prepare freesurfer data"
   ]
  },
  {
   "cell_type": "markdown",
   "metadata": {},
   "source": [
    "## Functional MRI"
   ]
  },
  {
   "cell_type": "code",
   "execution_count": 22,
   "metadata": {},
   "outputs": [],
   "source": [
    "# load connectivity matrices\n",
    "ATLASES = ['msdl', 'basc064', 'basc122', 'basc197']\n",
    "# path for the different kind of connectivity matrices\n",
    "CONNECTIVITY_KIND = ['correlation', 'partial correlation', 'tangent']\n",
    "\n",
    "sel_atlas = ATLASES[1]\n",
    "sel_connect = CONNECTIVITY_KIND[0]\n",
    "sel_subject = 'sub-CC510355'\n",
    "\n",
    "file_path = f'../../data/connectivity/{sel_subject}/{sel_atlas}/{sel_connect}/'\\\n",
    "            f'{sel_subject}_task-Rest_confounds.pkl'"
   ]
  },
  {
   "cell_type": "code",
   "execution_count": 23,
   "metadata": {},
   "outputs": [],
   "source": [
    "with open(file_path, 'rb') as f:\n",
    "    connect_matrix = joblib.load(f)"
   ]
  },
  {
   "cell_type": "code",
   "execution_count": 25,
   "metadata": {},
   "outputs": [
    {
     "data": {
      "text/plain": [
       "array([0.80780958, 0.62181548, 0.69468642, ..., 0.58771813, 0.59074507,\n",
       "       0.69387215])"
      ]
     },
     "execution_count": 25,
     "metadata": {},
     "output_type": "execute_result"
    }
   ],
   "source": [
    "connect_matrix"
   ]
  },
  {
   "cell_type": "markdown",
   "metadata": {},
   "source": [
    "scipy stats for Fichers transform\n",
    "https://en.wikipedia.org/wiki/Fisher_transformation\n",
    "\n",
    "This is just a tanh function"
   ]
  },
  {
   "cell_type": "code",
   "execution_count": 28,
   "metadata": {},
   "outputs": [
    {
     "name": "stdout",
     "output_type": "stream",
     "text": [
      "lh thickness\n",
      "lh area\n",
      "rh thickness\n",
      "rh area\n"
     ]
    }
   ],
   "source": [
    "from itertools import product\n",
    "meas = ('thickness', 'area')\n",
    "hemi = ('lh', 'rh')\n",
    "\n",
    "for h, m in product(hemi, meas):\n",
    "    print(h, m)"
   ]
  },
  {
   "cell_type": "code",
   "execution_count": 1,
   "metadata": {},
   "outputs": [],
   "source": [
    "from camcan import utils"
   ]
  },
  {
   "cell_type": "code",
   "execution_count": 1,
   "metadata": {},
   "outputs": [
    {
     "name": "stderr",
     "output_type": "stream",
     "text": [
      "INFO:root:nsubjects = 1\n",
      "tmpdir is /home/okozyn/Projects/inria/camcan_analysis/data/debug/CC620466/data/tmp.mris_preproc.28847\n",
      "/home/okozyn/Projects/inria/camcan_analysis/notebook/mri\n",
      "Log file is /home/okozyn/Projects/inria/camcan_analysis/data/debug/CC620466/data/lh.thickness.mris_preproc.log\n",
      "gio 28 feb 2019, 14.50.56, CET\n",
      "setenv SUBJECTS_DIR /home/okozyn/Projects/inria/camcan_analysis/data/freesurfer\n",
      "cd /home/okozyn/Projects/inria/camcan_analysis/notebook/mri\n",
      "/home/okozyn/Programs/freesurfer/bin/mris_preproc --s CC620466 --target fsaverage5 --hemi lh --meas thickness --out /home/okozyn/Projects/inria/camcan_analysis/data/debug/CC620466/data/lh.thickness.mgh\n",
      "\n",
      "Linux azzaro 4.15.0-45-generic #48-Ubuntu SMP Tue Jan 29 16:28:13 UTC 2019 x86_64 x86_64 x86_64 GNU/Linux\n",
      "$Id: mris_preproc,v 1.76.2.1 2016/08/12 17:55:45 zkaufman Exp $\n",
      "freesurfer-Linux-centos6_x86_64-stable-pub-v6.0.0-2beb96c\n",
      "tmpdir is /home/okozyn/Projects/inria/camcan_analysis/data/debug/CC620466/data/tmp.mris_preproc.28847\n",
      "Src lh fsaverage5.sphere.reg\n",
      "Trg lh sphere.reg\n",
      "\n",
      "\n",
      "\n",
      "\n",
      "---------------------------------------------------\n",
      "#@# 1/1 CC620466 gio 28 feb 2019, 14.50.56, CET --------------\n",
      "-----------------------\n",
      "mri_surf2surf --srcsubject CC620466 --srchemi lh --srcsurfreg fsaverage5.sphere.reg --trgsubject fsaverage5 --trghemi lh --trgsurfreg sphere.reg --tval /home/okozyn/Projects/inria/camcan_analysis/data/debug/CC620466/data/tmp.mris_preproc.28847/CC620466.1.mgh --sval /home/okozyn/Projects/inria/camcan_analysis/data/freesurfer/CC620466/surf/lh.thickness --sfmt curv --noreshape --cortex\n",
      "MRISread(/home/okozyn/Projects/inria/camcan_analysis/data/freesurfer/CC620466/surf/lh.fsaverage5.sphere.reg): could not open file\n",
      "Source registration surface changed to fsaverage5.sphere.reg\n",
      "Target registration surface changed to sphere.reg\n",
      "\n",
      "$Id: mri_surf2surf.c,v 1.103 2015/11/05 22:07:33 greve Exp $\n",
      "\n",
      "setenv SUBJECTS_DIR /home/okozyn/Projects/inria/camcan_analysis/data/freesurfer\n",
      "cd /home/okozyn/Projects/inria/camcan_analysis/notebook/mri\n",
      "mri_surf2surf --srcsubject CC620466 --srchemi lh --srcsurfreg fsaverage5.sphere.reg --trgsubject fsaverage5 --trghemi lh --trgsurfreg sphere.reg --tval /home/okozyn/Projects/inria/camcan_analysis/data/debug/CC620466/data/tmp.mris_preproc.28847/CC620466.1.mgh --sval /home/okozyn/Projects/inria/camcan_analysis/data/freesurfer/CC620466/surf/lh.thickness --sfmt curv --noreshape --cortex \n",
      "\n",
      "sysname  Linux\n",
      "hostname azzaro\n",
      "machine  x86_64\n",
      "user     okozyn\n",
      "srcsubject = CC620466\n",
      "srcval     = /home/okozyn/Projects/inria/camcan_analysis/data/freesurfer/CC620466/surf/lh.thickness\n",
      "srctype    = curv\n",
      "trgsubject = fsaverage5\n",
      "trgval     = /home/okozyn/Projects/inria/camcan_analysis/data/debug/CC620466/data/tmp.mris_preproc.28847/CC620466.1.mgh\n",
      "trgtype    = \n",
      "srcsurfreg = fsaverage5.sphere.reg\n",
      "trgsurfreg = sphere.reg\n",
      "srchemi    = lh\n",
      "trghemi    = lh\n",
      "frame      = 0\n",
      "fwhm-in    = 0\n",
      "fwhm-out   = 0\n",
      "label-src  = lh.cortex.label\n",
      "label-trg  = lh.cortex.label\n",
      "OKToRevFaceOrder  = 1\n",
      "UseDualHemi = 0\n",
      "Reading source surface reg /home/okozyn/Projects/inria/camcan_analysis/data/freesurfer/CC620466/surf/lh.fsaverage5.sphere.reg\n",
      "No such file or directory\n",
      "mri_surf2surf: could not read surface /home/okozyn/Projects/inria/camcan_analysis/data/freesurfer/CC620466/surf/lh.fsaverage5.sphere.reg\n",
      "No such file or directory\n",
      "\n"
     ]
    },
    {
     "ename": "Exception",
     "evalue": "Non zero return code: 1. Bash: b''",
     "output_type": "error",
     "traceback": [
      "\u001b[0;31m---------------------------------------------------------------------------\u001b[0m",
      "\u001b[0;31mException\u001b[0m                                 Traceback (most recent call last)",
      "\u001b[0;32m<ipython-input-1-50ac8aea80c3>\u001b[0m in \u001b[0;36m<module>\u001b[0;34m\u001b[0m\n\u001b[1;32m      5\u001b[0m \u001b[0mout_dir\u001b[0m \u001b[0;34m=\u001b[0m \u001b[0;34m'/home/okozyn/Projects/inria/camcan_analysis/data/debug'\u001b[0m\u001b[0;34m\u001b[0m\u001b[0;34m\u001b[0m\u001b[0m\n\u001b[1;32m      6\u001b[0m \u001b[0;34m\u001b[0m\u001b[0m\n\u001b[0;32m----> 7\u001b[0;31m \u001b[0mout_files\u001b[0m \u001b[0;34m=\u001b[0m \u001b[0mget_structural_data\u001b[0m\u001b[0;34m(\u001b[0m\u001b[0msubjects_dir\u001b[0m\u001b[0;34m,\u001b[0m \u001b[0msubject\u001b[0m\u001b[0;34m,\u001b[0m \u001b[0mout_dir\u001b[0m\u001b[0;34m)\u001b[0m\u001b[0;34m\u001b[0m\u001b[0;34m\u001b[0m\u001b[0m\n\u001b[0m",
      "\u001b[0;32m~/Projects/inria/camcan_analysis/camcan/preprocessing/structural.py\u001b[0m in \u001b[0;36mget_structural_data\u001b[0;34m(subjects_dir, subject, out_dir)\u001b[0m\n\u001b[1;32m     18\u001b[0m         \u001b[0mThe\u001b[0m \u001b[0moutput\u001b[0m \u001b[0mdirectory\u001b[0m\u001b[0;34m.\u001b[0m\u001b[0;34m\u001b[0m\u001b[0;34m\u001b[0m\u001b[0m\n\u001b[1;32m     19\u001b[0m     \"\"\"\n\u001b[0;32m---> 20\u001b[0;31m     \u001b[0mout_files\u001b[0m \u001b[0;34m=\u001b[0m \u001b[0mget_cortex_data\u001b[0m\u001b[0;34m(\u001b[0m\u001b[0msubjects_dir\u001b[0m\u001b[0;34m,\u001b[0m \u001b[0msubject\u001b[0m\u001b[0;34m,\u001b[0m \u001b[0mout_dir\u001b[0m\u001b[0;34m)\u001b[0m\u001b[0;34m\u001b[0m\u001b[0;34m\u001b[0m\u001b[0m\n\u001b[0m\u001b[1;32m     21\u001b[0m     \u001b[0mout_files\u001b[0m\u001b[0;34m[\u001b[0m\u001b[0;34m\"aseg\"\u001b[0m \u001b[0;34m+\u001b[0m \u001b[0;34m\"_file\"\u001b[0m\u001b[0;34m]\u001b[0m \u001b[0;34m=\u001b[0m \u001b[0mget_volumes_data\u001b[0m\u001b[0;34m(\u001b[0m\u001b[0msubjects_dir\u001b[0m\u001b[0;34m,\u001b[0m \u001b[0msubject\u001b[0m\u001b[0;34m,\u001b[0m \u001b[0mout_dir\u001b[0m\u001b[0;34m)\u001b[0m\u001b[0;34m\u001b[0m\u001b[0;34m\u001b[0m\u001b[0m\n\u001b[1;32m     22\u001b[0m \u001b[0;34m\u001b[0m\u001b[0m\n",
      "\u001b[0;32m~/Projects/inria/camcan_analysis/camcan/preprocessing/structural.py\u001b[0m in \u001b[0;36mget_cortex_data\u001b[0;34m(subjects_dir, subject, out_dir)\u001b[0m\n\u001b[1;32m     89\u001b[0m         \u001b[0mcmd\u001b[0m \u001b[0;34m=\u001b[0m \u001b[0;34mf'mris_preproc --s {subject} --target fsaverage5 --hemi {h} '\u001b[0m\u001b[0;31m \u001b[0m\u001b[0;31m\\\u001b[0m\u001b[0;34m\u001b[0m\u001b[0;34m\u001b[0m\u001b[0m\n\u001b[1;32m     90\u001b[0m               \u001b[0;34mf'--meas {m} --out {out_file}'\u001b[0m\u001b[0;34m\u001b[0m\u001b[0;34m\u001b[0m\u001b[0m\n\u001b[0;32m---> 91\u001b[0;31m         \u001b[0mrun_fs\u001b[0m\u001b[0;34m(\u001b[0m\u001b[0mcmd\u001b[0m\u001b[0;34m,\u001b[0m \u001b[0menv\u001b[0m\u001b[0;34m=\u001b[0m\u001b[0;34m{\u001b[0m\u001b[0;34m'SUBJECTS_DIR'\u001b[0m\u001b[0;34m:\u001b[0m \u001b[0msubjects_dir\u001b[0m\u001b[0;34m}\u001b[0m\u001b[0;34m)\u001b[0m\u001b[0;34m\u001b[0m\u001b[0;34m\u001b[0m\u001b[0m\n\u001b[0m\u001b[1;32m     92\u001b[0m \u001b[0;34m\u001b[0m\u001b[0m\n\u001b[1;32m     93\u001b[0m     \u001b[0;32mreturn\u001b[0m \u001b[0mout_files\u001b[0m\u001b[0;34m\u001b[0m\u001b[0;34m\u001b[0m\u001b[0m\n",
      "\u001b[0;32m~/Projects/inria/camcan_analysis/camcan/utils/shell.py\u001b[0m in \u001b[0;36mrun_fs\u001b[0;34m(cmd, env, ignore_errors)\u001b[0m\n\u001b[1;32m     32\u001b[0m \u001b[0;34m\u001b[0m\u001b[0m\n\u001b[1;32m     33\u001b[0m     \u001b[0;32mif\u001b[0m \u001b[0mprocess\u001b[0m\u001b[0;34m.\u001b[0m\u001b[0mreturncode\u001b[0m \u001b[0;34m!=\u001b[0m \u001b[0;36m0\u001b[0m \u001b[0;32mand\u001b[0m \u001b[0;32mnot\u001b[0m \u001b[0mignore_errors\u001b[0m\u001b[0;34m:\u001b[0m\u001b[0;34m\u001b[0m\u001b[0;34m\u001b[0m\u001b[0m\n\u001b[0;32m---> 34\u001b[0;31m         \u001b[0;32mraise\u001b[0m \u001b[0mException\u001b[0m\u001b[0;34m(\u001b[0m\u001b[0;34mf'Non zero return code: {process.returncode}. Bash: {process.stderr}'\u001b[0m\u001b[0;34m)\u001b[0m\u001b[0;34m\u001b[0m\u001b[0;34m\u001b[0m\u001b[0m\n\u001b[0m",
      "\u001b[0;31mException\u001b[0m: Non zero return code: 1. Bash: b''"
     ]
    }
   ],
   "source": [
    "from camcan.preprocessing import get_structural_data\n",
    "# test functions on MRI data\n",
    "subjects_dir = '/home/okozyn/Projects/inria/camcan_analysis/data/freesurfer'\n",
    "subject = 'CC620466'\n",
    "out_dir = '/home/okozyn/Projects/inria/camcan_analysis/data/debug'\n",
    "\n",
    "out_files = get_structural_data(subjects_dir, subject, out_dir)"
   ]
  },
  {
   "cell_type": "code",
   "execution_count": 35,
   "metadata": {},
   "outputs": [],
   "source": [
    "import nibabel as nb\n",
    "import numpy as np\n",
    "\n",
    "img = nb.load(out_files['lh_thickness_file'])\n",
    "in_data = img.get_data().squeeze()\n",
    "# column vector\n",
    "vectorized_data = in_data[:, np.newaxis]"
   ]
  },
  {
   "cell_type": "code",
   "execution_count": 36,
   "metadata": {},
   "outputs": [],
   "source": [
    "t = np.genfromtxt(out_files['aseg_file'], skip_header=1, delimiter=',')[1:]"
   ]
  },
  {
   "cell_type": "code",
   "execution_count": 37,
   "metadata": {},
   "outputs": [
    {
     "data": {
      "text/plain": [
       "dict_keys(['lh_thickness_file', 'lh_area_file', 'rh_thickness_file', 'rh_area_file', 'aseg_file'])"
      ]
     },
     "execution_count": 37,
     "metadata": {},
     "output_type": "execute_result"
    }
   ],
   "source": [
    "out_files.keys()"
   ]
  },
  {
   "cell_type": "code",
   "execution_count": 38,
   "metadata": {},
   "outputs": [
    {
     "data": {
      "text/plain": [
       "(66,)"
      ]
     },
     "execution_count": 38,
     "metadata": {},
     "output_type": "execute_result"
    }
   ],
   "source": [
    "t.shape"
   ]
  },
  {
   "cell_type": "code",
   "execution_count": 33,
   "metadata": {},
   "outputs": [
    {
     "data": {
      "text/plain": [
       "149600"
      ]
     },
     "execution_count": 33,
     "metadata": {},
     "output_type": "execute_result"
    }
   ],
   "source": [
    "vectorized_data.sort()\n",
    "np.sum(vectorized_data > 0)"
   ]
  },
  {
   "cell_type": "code",
   "execution_count": 39,
   "metadata": {},
   "outputs": [
    {
     "data": {
      "text/plain": [
       "(163842, 1, 1)"
      ]
     },
     "execution_count": 39,
     "metadata": {},
     "output_type": "execute_result"
    }
   ],
   "source": [
    "img.get_data().shape"
   ]
  },
  {
   "cell_type": "code",
   "execution_count": null,
   "metadata": {},
   "outputs": [],
   "source": [
    "d = [d for d in os.listdir('./') if isdir(d) and 'CC' in d]  "
   ]
  }
 ],
 "metadata": {
  "kernelspec": {
   "display_name": "MNE (Python 3)",
   "language": "python",
   "name": "mne"
  },
  "language_info": {
   "codemirror_mode": {
    "name": "ipython",
    "version": 3
   },
   "file_extension": ".py",
   "mimetype": "text/x-python",
   "name": "python",
   "nbconvert_exporter": "python",
   "pygments_lexer": "ipython3",
   "version": "3.6.8"
  }
 },
 "nbformat": 4,
 "nbformat_minor": 2
}
