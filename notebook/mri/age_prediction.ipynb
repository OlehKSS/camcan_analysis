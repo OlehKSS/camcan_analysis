{
 "cells": [
  {
   "cell_type": "markdown",
   "metadata": {},
   "source": [
    "# Cognitive Age Prediction with Structural and Functional MRI"
   ]
  },
  {
   "cell_type": "code",
   "execution_count": 17,
   "metadata": {},
   "outputs": [],
   "source": [
    "import joblib"
   ]
  },
  {
   "cell_type": "markdown",
   "metadata": {},
   "source": [
    "## Structural MRI"
   ]
  },
  {
   "cell_type": "code",
   "execution_count": null,
   "metadata": {},
   "outputs": [],
   "source": [
    "# prepare freesurfer data"
   ]
  },
  {
   "cell_type": "markdown",
   "metadata": {},
   "source": [
    "## Functional MRI"
   ]
  },
  {
   "cell_type": "code",
   "execution_count": 22,
   "metadata": {},
   "outputs": [],
   "source": [
    "# load connectivity matrices\n",
    "ATLASES = ['msdl', 'basc064', 'basc122', 'basc197']\n",
    "# path for the different kind of connectivity matrices\n",
    "CONNECTIVITY_KIND = ['correlation', 'partial correlation', 'tangent']\n",
    "\n",
    "sel_atlas = ATLASES[1]\n",
    "sel_connect = CONNECTIVITY_KIND[0]\n",
    "sel_subject = 'sub-CC510355'\n",
    "\n",
    "file_path = f'../../data/connectivity/{sel_subject}/{sel_atlas}/{sel_connect}/'\\\n",
    "            f'{sel_subject}_task-Rest_confounds.pkl'"
   ]
  },
  {
   "cell_type": "code",
   "execution_count": 23,
   "metadata": {},
   "outputs": [],
   "source": [
    "with open(file_path, 'rb') as f:\n",
    "    connect_matrix = joblib.load(f)"
   ]
  },
  {
   "cell_type": "code",
   "execution_count": 25,
   "metadata": {},
   "outputs": [
    {
     "data": {
      "text/plain": [
       "array([0.80780958, 0.62181548, 0.69468642, ..., 0.58771813, 0.59074507,\n",
       "       0.69387215])"
      ]
     },
     "execution_count": 25,
     "metadata": {},
     "output_type": "execute_result"
    }
   ],
   "source": [
    "connect_matrix"
   ]
  },
  {
   "cell_type": "markdown",
   "metadata": {},
   "source": [
    "scipy stats for Fichers transform\n",
    "https://en.wikipedia.org/wiki/Fisher_transformation\n",
    "\n",
    "This is just a tanh function"
   ]
  },
  {
   "cell_type": "code",
   "execution_count": 28,
   "metadata": {},
   "outputs": [
    {
     "name": "stdout",
     "output_type": "stream",
     "text": [
      "lh thickness\n",
      "lh area\n",
      "rh thickness\n",
      "rh area\n"
     ]
    }
   ],
   "source": [
    "from itertools import product\n",
    "meas = ('thickness', 'area')\n",
    "hemi = ('lh', 'rh')\n",
    "\n",
    "for h, m in product(hemi, meas):\n",
    "    print(h, m)"
   ]
  },
  {
   "cell_type": "code",
   "execution_count": 1,
   "metadata": {},
   "outputs": [],
   "source": [
    "from camcan import utils"
   ]
  },
  {
   "cell_type": "code",
   "execution_count": 2,
   "metadata": {},
   "outputs": [
    {
     "name": "stderr",
     "output_type": "stream",
     "text": [
      "INFO:root:116\n",
      "INFO:root:111\n",
      "INFO:root:116\n",
      "INFO:root:97\n",
      "INFO:root:108\n",
      "INFO:root:32\n",
      "INFO:root:56\n",
      "INFO:root:10\n",
      "INFO:root:45\n",
      "INFO:root:114\n",
      "INFO:root:119\n",
      "INFO:root:45\n",
      "INFO:root:114\n",
      "INFO:root:119\n",
      "INFO:root:45\n",
      "INFO:root:114\n",
      "INFO:root:45\n",
      "INFO:root:45\n",
      "INFO:root:32\n",
      "INFO:root:49\n",
      "INFO:root:32\n",
      "INFO:root:111\n",
      "INFO:root:107\n",
      "INFO:root:111\n",
      "INFO:root:122\n",
      "INFO:root:121\n",
      "INFO:root:110\n",
      "INFO:root:32\n",
      "INFO:root:111\n",
      "INFO:root:107\n",
      "INFO:root:111\n",
      "INFO:root:122\n",
      "INFO:root:121\n",
      "INFO:root:110\n",
      "INFO:root:32\n",
      "INFO:root:56\n",
      "INFO:root:48\n",
      "INFO:root:53\n",
      "INFO:root:48\n",
      "INFO:root:32\n",
      "INFO:root:102\n",
      "INFO:root:101\n",
      "INFO:root:98\n",
      "INFO:root:32\n",
      "INFO:root:50\n",
      "INFO:root:55\n",
      "INFO:root:32\n",
      "INFO:root:49\n",
      "INFO:root:54\n",
      "INFO:root:58\n",
      "INFO:root:49\n",
      "INFO:root:57\n",
      "INFO:root:32\n",
      "INFO:root:97\n",
      "INFO:root:103\n",
      "INFO:root:101\n",
      "INFO:root:95\n",
      "INFO:root:112\n",
      "INFO:root:114\n",
      "INFO:root:101\n",
      "INFO:root:100\n",
      "INFO:root:105\n",
      "INFO:root:99\n",
      "INFO:root:116\n",
      "INFO:root:105\n",
      "INFO:root:111\n",
      "INFO:root:110\n",
      "INFO:root:46\n",
      "INFO:root:105\n",
      "INFO:root:112\n",
      "INFO:root:121\n",
      "INFO:root:110\n",
      "INFO:root:98\n",
      "INFO:root:10\n"
     ]
    }
   ],
   "source": [
    "utils.run_fs('ls -l')"
   ]
  },
  {
   "cell_type": "code",
   "execution_count": 7,
   "metadata": {},
   "outputs": [
    {
     "ename": "Exception",
     "evalue": "Non zero return code: 127",
     "output_type": "error",
     "traceback": [
      "\u001b[0;31m---------------------------------------------------------------------------\u001b[0m",
      "\u001b[0;31mException\u001b[0m                                 Traceback (most recent call last)",
      "\u001b[0;32m<ipython-input-7-d2080d9b5dac>\u001b[0m in \u001b[0;36m<module>\u001b[0;34m\u001b[0m\n\u001b[1;32m      5\u001b[0m \u001b[0mout_dir\u001b[0m \u001b[0;34m=\u001b[0m \u001b[0;34m'./home/okozyn/Projects/inria/camcan_analysis/data/debug'\u001b[0m\u001b[0;34m\u001b[0m\u001b[0;34m\u001b[0m\u001b[0m\n\u001b[1;32m      6\u001b[0m \u001b[0;34m\u001b[0m\u001b[0m\n\u001b[0;32m----> 7\u001b[0;31m \u001b[0mget_structural_data\u001b[0m\u001b[0;34m(\u001b[0m\u001b[0msubjects_dir\u001b[0m\u001b[0;34m,\u001b[0m \u001b[0msubject\u001b[0m\u001b[0;34m,\u001b[0m \u001b[0mout_dir\u001b[0m\u001b[0;34m)\u001b[0m\u001b[0;34m\u001b[0m\u001b[0;34m\u001b[0m\u001b[0m\n\u001b[0m",
      "\u001b[0;32m~/Projects/inria/camcan_analysis/camcan/preprocessing/structural.py\u001b[0m in \u001b[0;36mget_structural_data\u001b[0;34m(subjects_dir, subject, out_dir)\u001b[0m\n\u001b[1;32m     18\u001b[0m         \u001b[0mThe\u001b[0m \u001b[0moutput\u001b[0m \u001b[0mdirectory\u001b[0m\u001b[0;34m.\u001b[0m\u001b[0;34m\u001b[0m\u001b[0;34m\u001b[0m\u001b[0m\n\u001b[1;32m     19\u001b[0m     \"\"\"\n\u001b[0;32m---> 20\u001b[0;31m     \u001b[0mout_files\u001b[0m \u001b[0;34m=\u001b[0m \u001b[0mget_cortex_data\u001b[0m\u001b[0;34m(\u001b[0m\u001b[0msubjects_dir\u001b[0m\u001b[0;34m,\u001b[0m \u001b[0msubject\u001b[0m\u001b[0;34m,\u001b[0m \u001b[0mout_dir\u001b[0m\u001b[0;34m)\u001b[0m\u001b[0;34m\u001b[0m\u001b[0;34m\u001b[0m\u001b[0m\n\u001b[0m\u001b[1;32m     21\u001b[0m     \u001b[0mout_files\u001b[0m\u001b[0;34m[\u001b[0m\u001b[0;34m\"aseg\"\u001b[0m \u001b[0;34m+\u001b[0m \u001b[0;34m\"_file\"\u001b[0m\u001b[0;34m]\u001b[0m \u001b[0;34m=\u001b[0m \u001b[0mget_volumes_data\u001b[0m\u001b[0;34m(\u001b[0m\u001b[0msubjects_dir\u001b[0m\u001b[0;34m,\u001b[0m \u001b[0msubject\u001b[0m\u001b[0;34m,\u001b[0m \u001b[0mout_dir\u001b[0m\u001b[0;34m)\u001b[0m\u001b[0;34m\u001b[0m\u001b[0;34m\u001b[0m\u001b[0m\n\u001b[1;32m     22\u001b[0m \u001b[0;34m\u001b[0m\u001b[0m\n",
      "\u001b[0;32m~/Projects/inria/camcan_analysis/camcan/preprocessing/structural.py\u001b[0m in \u001b[0;36mget_cortex_data\u001b[0;34m(subjects_dir, subject, out_dir)\u001b[0m\n\u001b[1;32m     86\u001b[0m         \u001b[0mcmd\u001b[0m \u001b[0;34m=\u001b[0m \u001b[0;34mf'mris_preproc --s {subject} --target fsaverage4 --hemi {h} '\u001b[0m\u001b[0;31m \u001b[0m\u001b[0;31m\\\u001b[0m\u001b[0;34m\u001b[0m\u001b[0;34m\u001b[0m\u001b[0m\n\u001b[1;32m     87\u001b[0m               \u001b[0;34mf'--meas {m} --out {out_file}'\u001b[0m\u001b[0;34m\u001b[0m\u001b[0;34m\u001b[0m\u001b[0m\n\u001b[0;32m---> 88\u001b[0;31m         \u001b[0mrun_fs\u001b[0m\u001b[0;34m(\u001b[0m\u001b[0mcmd\u001b[0m\u001b[0;34m,\u001b[0m \u001b[0menv\u001b[0m\u001b[0;34m=\u001b[0m\u001b[0;34m{\u001b[0m\u001b[0;34m'SUBJECTS_DIR'\u001b[0m\u001b[0;34m:\u001b[0m \u001b[0msubjects_dir\u001b[0m\u001b[0;34m}\u001b[0m\u001b[0;34m)\u001b[0m\u001b[0;34m\u001b[0m\u001b[0;34m\u001b[0m\u001b[0m\n\u001b[0m\u001b[1;32m     89\u001b[0m \u001b[0;34m\u001b[0m\u001b[0m\n\u001b[1;32m     90\u001b[0m     \u001b[0;32mreturn\u001b[0m \u001b[0mout_files\u001b[0m\u001b[0;34m\u001b[0m\u001b[0;34m\u001b[0m\u001b[0m\n",
      "\u001b[0;32m~/Projects/inria/camcan_analysis/camcan/utils/shell.py\u001b[0m in \u001b[0;36mrun_fs\u001b[0;34m(cmd, env, ignore_errors)\u001b[0m\n\u001b[1;32m     33\u001b[0m \u001b[0;34m\u001b[0m\u001b[0m\n\u001b[1;32m     34\u001b[0m     \u001b[0;32mif\u001b[0m \u001b[0mprocess\u001b[0m\u001b[0;34m.\u001b[0m\u001b[0mreturncode\u001b[0m \u001b[0;34m!=\u001b[0m \u001b[0;36m0\u001b[0m \u001b[0;32mand\u001b[0m \u001b[0;32mnot\u001b[0m \u001b[0mignore_errors\u001b[0m\u001b[0;34m:\u001b[0m\u001b[0;34m\u001b[0m\u001b[0;34m\u001b[0m\u001b[0m\n\u001b[0;32m---> 35\u001b[0;31m         \u001b[0;32mraise\u001b[0m \u001b[0mException\u001b[0m\u001b[0;34m(\u001b[0m\u001b[0;34mf'Non zero return code: {process.returncode}'\u001b[0m\u001b[0;34m)\u001b[0m\u001b[0;34m\u001b[0m\u001b[0;34m\u001b[0m\u001b[0m\n\u001b[0m",
      "\u001b[0;31mException\u001b[0m: Non zero return code: 127"
     ]
    }
   ],
   "source": [
    "from camcan.preprocessing import get_structural_data\n",
    "# test functions on MRI data\n",
    "subjects_dir = '/home/okozyn/Projects/inria/camcan_analysis/data/freesurfer'\n",
    "subject = 'CC620466'\n",
    "out_dir = './home/okozyn/Projects/inria/camcan_analysis/data/debug'\n",
    "\n",
    "get_structural_data(subjects_dir, subject, out_dir)"
   ]
  },
  {
   "cell_type": "code",
   "execution_count": null,
   "metadata": {},
   "outputs": [],
   "source": []
  }
 ],
 "metadata": {
  "kernelspec": {
   "display_name": "MNE (Python 3)",
   "language": "python",
   "name": "mne"
  },
  "language_info": {
   "codemirror_mode": {
    "name": "ipython",
    "version": 3
   },
   "file_extension": ".py",
   "mimetype": "text/x-python",
   "name": "python",
   "nbconvert_exporter": "python",
   "pygments_lexer": "ipython3",
   "version": "3.6.8"
  }
 },
 "nbformat": 4,
 "nbformat_minor": 2
}
