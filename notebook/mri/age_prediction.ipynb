{
 "cells": [
  {
   "cell_type": "markdown",
   "metadata": {},
   "source": [
    "# Cognitive Age Prediction with Structural and Functional MRI"
   ]
  },
  {
   "cell_type": "markdown",
   "metadata": {},
   "source": [
    "## Structural MRI"
   ]
  },
  {
   "cell_type": "code",
   "execution_count": 80,
   "metadata": {},
   "outputs": [],
   "source": [
    "# helper functions\n",
    "import nibabel as nb\n",
    "import numpy as np\n",
    "\n",
    "def _vectorize_fs_surf(file_path):\n",
    "    \"\"\"\n",
    "    Read surface information from a file and turn it into a vector.\n",
    "    \n",
    "    Parameters\n",
    "    ----------\n",
    "    file_path : str\n",
    "        The path to a file with surface data.\n",
    "    \n",
    "    Returns\n",
    "    -------\n",
    "    vectorized_data : numpy.ndarray\n",
    "        Extracted data.\n",
    "    \"\"\"\n",
    "    img = nb.load(file_path)\n",
    "    in_data = img.get_data().squeeze()\n",
    "\n",
    "    return in_data\n",
    "\n",
    "\n",
    "def get_area(subject_dir):\n",
    "    \"\"\"\n",
    "    Read area information for the given subject and turn it into a vector.\n",
    "    Data for left and right hemispheres are concatenated.\n",
    "    \n",
    "    Parameters\n",
    "    ----------\n",
    "    subject_dir : str\n",
    "        The directory to files with surface data.\n",
    "    \n",
    "    Returns\n",
    "    -------\n",
    "    : numpy.ndarray\n",
    "        Extracted data.\n",
    "    \"\"\"\n",
    "    AREA_FILES = ('lh.area.mgh',  'rh.area.mgh')\n",
    "    \n",
    "    lh_data = _vectorize_fs_surf(join(subject_dir, AREA_FILES[0]))\n",
    "    rh_data = _vectorize_fs_surf(join(subject_dir, AREA_FILES[1]))\n",
    "    \n",
    "    return np.concatenate((lh_data, rh_data), 0)\n",
    "\n",
    "\n",
    "def get_thickness(subject_dir):\n",
    "    \"\"\"\n",
    "    Read thickness information for the given subject and turn it into a vector.\n",
    "    Data for left and right hemispheres are concatenated.\n",
    "    \n",
    "    Parameters\n",
    "    ----------\n",
    "    subject_dir : str\n",
    "        The directory to files with surface data.\n",
    "    \n",
    "    Returns\n",
    "    -------\n",
    "    : numpy.ndarray\n",
    "        Extracted data.\n",
    "    \"\"\"\n",
    "    THICKNESS_FILES = ('rh.thickness.mgh', 'lh.thickness.mgh')\n",
    "    \n",
    "    lh_data = _vectorize_fs_surf(join(subject_dir, THICKNESS_FILES[0]))\n",
    "    rh_data = _vectorize_fs_surf(join(subject_dir, THICKNESS_FILES[1]))\n",
    "    \n",
    "    return np.concatenate((lh_data, rh_data), 0)"
   ]
  },
  {
   "cell_type": "code",
   "execution_count": 83,
   "metadata": {},
   "outputs": [],
   "source": [
    "import os\n",
    "from os.path import isdir, join\n",
    "\n",
    "import pandas as pd\n",
    "\n",
    "# prepare freesurfer data\n",
    "STRUCTURAL_DATA = '/home/okozyn/Projects/inria/camcan_analysis/data/structural'\n",
    "VOLUME_FILE = 'aseg.csv'\n",
    "\n",
    "subjects = tuple(d for d in os.listdir(STRUCTURAL_DATA) if isdir(join(STRUCTURAL_DATA, d)))\n",
    "\n",
    "area_data = None\n",
    "thickness_data = None\n",
    "volume_data = None\n",
    "\n",
    "area_failed = []\n",
    "thickness_failes = []\n",
    "volume_failed = []\n",
    "\n",
    "for s in subjects:\n",
    "    subject_dir = join(STRUCTURAL_DATA, s)\n",
    "    \n",
    "    try:\n",
    "        t_area = get_area(subject_dir)\n",
    "    except:\n",
    "        area_failed.append(s)\n",
    "\n",
    "    try:\n",
    "        t_thickness = get_thickness(subject_dir)\n",
    "    except:\n",
    "        volume_failed.append(s)\n",
    "\n",
    "    try:\n",
    "        volume = pd.read_csv(join(subject_dir, VOLUME_FILE), index_col=0)\n",
    "    except:\n",
    "        volume_failed.append(s)\n",
    "\n",
    "    if area_data is None:\n",
    "        area_data = pd.DataFrame(index=subjects, columns=np.arange(start=0, stop=len(t_area)), dtype=float)\n",
    "        area_data.loc[s] = t_area\n",
    "    else:\n",
    "        area_data.loc[s] = t_area\n",
    "    \n",
    "    if thickness_data is None:\n",
    "        thickness_data = pd.DataFrame(index=subjects, columns=np.arange(start=0, stop=len(t_thickness)), dtype=float)\n",
    "        thickness_data.loc[s] = t_thickness\n",
    "    else:\n",
    "        thickness_data.loc[s] = t_thickness\n",
    "\n",
    "    if volume_data is None:\n",
    "        volume_data = volume\n",
    "    else:\n",
    "        volume_data = pd.concat([volume_data, volume])\n",
    "\n",
    "print('Failed to load area data for\\n', area_failed)\n",
    "print('Failed to load thickness data for\\n', thickness_failed)\n",
    "print('Failed to load volume data for\\n', volume_failed)\n",
    "\n",
    "area_data.to_csv(join(STRUCTURAL_DATA, 'area_data.csv'))\n",
    "thickness_data.to_csv(join(STRUCTURAL_DATA, 'thickness_data.csv'))\n",
    "volume_data.to_csv(join(STRUCTURAL_DATA, 'volume_data.csv'))"
   ]
  },
  {
   "cell_type": "markdown",
   "metadata": {},
   "source": [
    "## Functional MRI"
   ]
  },
  {
   "cell_type": "code",
   "execution_count": 22,
   "metadata": {},
   "outputs": [],
   "source": [
    "# load connectivity matrices\n",
    "ATLASES = ['msdl', 'basc064', 'basc122', 'basc197']\n",
    "# path for the different kind of connectivity matrices\n",
    "CONNECTIVITY_KIND = ['correlation', 'partial correlation', 'tangent']\n",
    "\n",
    "sel_atlas = ATLASES[1]\n",
    "sel_connect = CONNECTIVITY_KIND[0]\n",
    "sel_subject = 'sub-CC510355'\n",
    "\n",
    "file_path = f'../../data/connectivity/{sel_subject}/{sel_atlas}/{sel_connect}/'\\\n",
    "            f'{sel_subject}_task-Rest_confounds.pkl'"
   ]
  },
  {
   "cell_type": "code",
   "execution_count": 23,
   "metadata": {},
   "outputs": [],
   "source": [
    "with open(file_path, 'rb') as f:\n",
    "    connect_matrix = joblib.load(f)"
   ]
  },
  {
   "cell_type": "code",
   "execution_count": 25,
   "metadata": {},
   "outputs": [
    {
     "data": {
      "text/plain": [
       "array([0.80780958, 0.62181548, 0.69468642, ..., 0.58771813, 0.59074507,\n",
       "       0.69387215])"
      ]
     },
     "execution_count": 25,
     "metadata": {},
     "output_type": "execute_result"
    }
   ],
   "source": [
    "connect_matrix"
   ]
  },
  {
   "cell_type": "markdown",
   "metadata": {},
   "source": [
    "scipy stats for Fichers transform\n",
    "https://en.wikipedia.org/wiki/Fisher_transformation\n",
    "\n",
    "This is just a tanh function"
   ]
  },
  {
   "cell_type": "code",
   "execution_count": 28,
   "metadata": {},
   "outputs": [
    {
     "name": "stdout",
     "output_type": "stream",
     "text": [
      "lh thickness\n",
      "lh area\n",
      "rh thickness\n",
      "rh area\n"
     ]
    }
   ],
   "source": [
    "from itertools import product\n",
    "meas = ('thickness', 'area')\n",
    "hemi = ('lh', 'rh')\n",
    "\n",
    "for h, m in product(hemi, meas):\n",
    "    print(h, m)"
   ]
  },
  {
   "cell_type": "code",
   "execution_count": 1,
   "metadata": {},
   "outputs": [],
   "source": [
    "from camcan import utils"
   ]
  },
  {
   "cell_type": "code",
   "execution_count": 35,
   "metadata": {},
   "outputs": [],
   "source": [
    "import nibabel as nb\n",
    "import numpy as np\n",
    "\n",
    "img = nb.load(out_files['lh_thickness_file'])\n",
    "in_data = img.get_data().squeeze()\n",
    "# column vector\n",
    "vectorized_data = in_data[:, np.newaxis]"
   ]
  },
  {
   "cell_type": "code",
   "execution_count": 36,
   "metadata": {},
   "outputs": [],
   "source": [
    "t = np.genfromtxt(out_files['aseg_file'], skip_header=1, delimiter=',')[1:]"
   ]
  },
  {
   "cell_type": "code",
   "execution_count": 37,
   "metadata": {},
   "outputs": [
    {
     "data": {
      "text/plain": [
       "dict_keys(['lh_thickness_file', 'lh_area_file', 'rh_thickness_file', 'rh_area_file', 'aseg_file'])"
      ]
     },
     "execution_count": 37,
     "metadata": {},
     "output_type": "execute_result"
    }
   ],
   "source": [
    "out_files.keys()"
   ]
  },
  {
   "cell_type": "code",
   "execution_count": 38,
   "metadata": {},
   "outputs": [
    {
     "data": {
      "text/plain": [
       "(66,)"
      ]
     },
     "execution_count": 38,
     "metadata": {},
     "output_type": "execute_result"
    }
   ],
   "source": [
    "t.shape"
   ]
  },
  {
   "cell_type": "code",
   "execution_count": 33,
   "metadata": {},
   "outputs": [
    {
     "data": {
      "text/plain": [
       "149600"
      ]
     },
     "execution_count": 33,
     "metadata": {},
     "output_type": "execute_result"
    }
   ],
   "source": [
    "vectorized_data.sort()\n",
    "np.sum(vectorized_data > 0)"
   ]
  },
  {
   "cell_type": "code",
   "execution_count": 39,
   "metadata": {},
   "outputs": [
    {
     "data": {
      "text/plain": [
       "(163842, 1, 1)"
      ]
     },
     "execution_count": 39,
     "metadata": {},
     "output_type": "execute_result"
    }
   ],
   "source": [
    "img.get_data().shape"
   ]
  },
  {
   "cell_type": "code",
   "execution_count": null,
   "metadata": {},
   "outputs": [],
   "source": [
    "d = [d for d in os.listdir('./') if isdir(d) and 'CC' in d]  "
   ]
  },
  {
   "cell_type": "code",
   "execution_count": 2,
   "metadata": {},
   "outputs": [],
   "source": [
    "from camcan.preprocessing.structural import get_cortex_data"
   ]
  },
  {
   "cell_type": "code",
   "execution_count": 4,
   "metadata": {},
   "outputs": [
    {
     "name": "stderr",
     "output_type": "stream",
     "text": [
      "INFO:root:nsubjects = 1\n",
      "tmpdir is /home/okozyn/Projects/inria/camcan_analysis/data/debug/CC620466/tmp.mris_preproc.8801\n",
      "/home/okozyn/Projects/inria/camcan_analysis/notebook/mri\n",
      "Log file is /home/okozyn/Projects/inria/camcan_analysis/data/debug/CC620466/lh.thickness.mris_preproc.log\n",
      "ven  1 mar 2019, 15.58.47, CET\n",
      "setenv SUBJECTS_DIR /home/okozyn/Projects/inria/camcan_analysis/data/freesurfer\n",
      "cd /home/okozyn/Projects/inria/camcan_analysis/notebook/mri\n",
      "/home/okozyn/Programs/freesurfer/bin/mris_preproc --s CC620466 --target fsaverage4 --hemi lh --meas thickness --out /home/okozyn/Projects/inria/camcan_analysis/data/debug/CC620466/lh.thickness.mgh\n",
      "\n",
      "Linux azzaro 4.15.0-45-generic #48-Ubuntu SMP Tue Jan 29 16:28:13 UTC 2019 x86_64 x86_64 x86_64 GNU/Linux\n",
      "$Id: mris_preproc,v 1.76.2.1 2016/08/12 17:55:45 zkaufman Exp $\n",
      "freesurfer-Linux-centos6_x86_64-stable-pub-v6.0.0-2beb96c\n",
      "tmpdir is /home/okozyn/Projects/inria/camcan_analysis/data/debug/CC620466/tmp.mris_preproc.8801\n",
      "Src lh fsaverage4.sphere.reg\n",
      "Trg lh sphere.reg\n",
      "\n",
      "\n",
      "\n",
      "\n",
      "---------------------------------------------------\n",
      "#@# 1/1 CC620466 ven  1 mar 2019, 15.58.47, CET --------------\n",
      "-----------------------\n",
      "mri_surf2surf --srcsubject CC620466 --srchemi lh --srcsurfreg fsaverage4.sphere.reg --trgsubject fsaverage4 --trghemi lh --trgsurfreg sphere.reg --tval /home/okozyn/Projects/inria/camcan_analysis/data/debug/CC620466/tmp.mris_preproc.8801/CC620466.1.mgh --sval /home/okozyn/Projects/inria/camcan_analysis/data/freesurfer/CC620466/surf/lh.thickness --sfmt curv --noreshape --cortex\n",
      "MRISread(/home/okozyn/Projects/inria/camcan_analysis/data/freesurfer/CC620466/surf/lh.fsaverage4.sphere.reg): could not open file\n",
      "Source registration surface changed to fsaverage4.sphere.reg\n",
      "Target registration surface changed to sphere.reg\n",
      "\n",
      "$Id: mri_surf2surf.c,v 1.103 2015/11/05 22:07:33 greve Exp $\n",
      "\n",
      "setenv SUBJECTS_DIR /home/okozyn/Projects/inria/camcan_analysis/data/freesurfer\n",
      "cd /home/okozyn/Projects/inria/camcan_analysis/notebook/mri\n",
      "mri_surf2surf --srcsubject CC620466 --srchemi lh --srcsurfreg fsaverage4.sphere.reg --trgsubject fsaverage4 --trghemi lh --trgsurfreg sphere.reg --tval /home/okozyn/Projects/inria/camcan_analysis/data/debug/CC620466/tmp.mris_preproc.8801/CC620466.1.mgh --sval /home/okozyn/Projects/inria/camcan_analysis/data/freesurfer/CC620466/surf/lh.thickness --sfmt curv --noreshape --cortex \n",
      "\n",
      "sysname  Linux\n",
      "hostname azzaro\n",
      "machine  x86_64\n",
      "user     okozyn\n",
      "srcsubject = CC620466\n",
      "srcval     = /home/okozyn/Projects/inria/camcan_analysis/data/freesurfer/CC620466/surf/lh.thickness\n",
      "srctype    = curv\n",
      "trgsubject = fsaverage4\n",
      "trgval     = /home/okozyn/Projects/inria/camcan_analysis/data/debug/CC620466/tmp.mris_preproc.8801/CC620466.1.mgh\n",
      "trgtype    = \n",
      "srcsurfreg = fsaverage4.sphere.reg\n",
      "trgsurfreg = sphere.reg\n",
      "srchemi    = lh\n",
      "trghemi    = lh\n",
      "frame      = 0\n",
      "fwhm-in    = 0\n",
      "fwhm-out   = 0\n",
      "label-src  = lh.cortex.label\n",
      "label-trg  = lh.cortex.label\n",
      "OKToRevFaceOrder  = 1\n",
      "UseDualHemi = 0\n",
      "Reading source surface reg /home/okozyn/Projects/inria/camcan_analysis/data/freesurfer/CC620466/surf/lh.fsaverage4.sphere.reg\n",
      "No such file or directory\n",
      "mri_surf2surf: could not read surface /home/okozyn/Projects/inria/camcan_analysis/data/freesurfer/CC620466/surf/lh.fsaverage4.sphere.reg\n",
      "No such file or directory\n",
      "\n",
      "ERROR:root:Non zero return code: 1. Bash: b'', cmd: mris_preproc --s CC620466 --target fsaverage4 --hemi lh --meas thickness --out /home/okozyn/Projects/inria/camcan_analysis/data/debug/CC620466/lh.thickness.mgh\n",
      "INFO:root:nsubjects = 1\n",
      "INFO: turning on jacobican correction\n",
      "tmpdir is /home/okozyn/Projects/inria/camcan_analysis/data/debug/CC620466/tmp.mris_preproc.8872\n",
      "/home/okozyn/Projects/inria/camcan_analysis/notebook/mri\n",
      "Log file is /home/okozyn/Projects/inria/camcan_analysis/data/debug/CC620466/lh.area.mris_preproc.log\n",
      "ven  1 mar 2019, 15.58.47, CET\n",
      "setenv SUBJECTS_DIR /home/okozyn/Projects/inria/camcan_analysis/data/freesurfer\n",
      "cd /home/okozyn/Projects/inria/camcan_analysis/notebook/mri\n",
      "/home/okozyn/Programs/freesurfer/bin/mris_preproc --s CC620466 --target fsaverage4 --hemi lh --meas area --out /home/okozyn/Projects/inria/camcan_analysis/data/debug/CC620466/lh.area.mgh\n",
      "\n",
      "Linux azzaro 4.15.0-45-generic #48-Ubuntu SMP Tue Jan 29 16:28:13 UTC 2019 x86_64 x86_64 x86_64 GNU/Linux\n",
      "$Id: mris_preproc,v 1.76.2.1 2016/08/12 17:55:45 zkaufman Exp $\n",
      "freesurfer-Linux-centos6_x86_64-stable-pub-v6.0.0-2beb96c\n",
      "tmpdir is /home/okozyn/Projects/inria/camcan_analysis/data/debug/CC620466/tmp.mris_preproc.8872\n",
      "Src lh fsaverage4.sphere.reg\n",
      "Trg lh sphere.reg\n",
      "\n",
      "\n",
      "\n",
      "\n",
      "---------------------------------------------------\n",
      "#@# 1/1 CC620466 ven  1 mar 2019, 15.58.48, CET --------------\n",
      "-----------------------\n",
      "mri_surf2surf --srcsubject CC620466 --srchemi lh --srcsurfreg fsaverage4.sphere.reg --trgsubject fsaverage4 --trghemi lh --trgsurfreg sphere.reg --tval /home/okozyn/Projects/inria/camcan_analysis/data/debug/CC620466/tmp.mris_preproc.8872/CC620466.1.mgh --sval /home/okozyn/Projects/inria/camcan_analysis/data/freesurfer/CC620466/surf/lh.area --jac --sfmt curv --noreshape --cortex\n",
      "MRISread(/home/okozyn/Projects/inria/camcan_analysis/data/freesurfer/CC620466/surf/lh.fsaverage4.sphere.reg): could not open file\n",
      "Source registration surface changed to fsaverage4.sphere.reg\n",
      "Target registration surface changed to sphere.reg\n",
      "\n",
      "$Id: mri_surf2surf.c,v 1.103 2015/11/05 22:07:33 greve Exp $\n",
      "\n",
      "setenv SUBJECTS_DIR /home/okozyn/Projects/inria/camcan_analysis/data/freesurfer\n",
      "cd /home/okozyn/Projects/inria/camcan_analysis/notebook/mri\n",
      "mri_surf2surf --srcsubject CC620466 --srchemi lh --srcsurfreg fsaverage4.sphere.reg --trgsubject fsaverage4 --trghemi lh --trgsurfreg sphere.reg --tval /home/okozyn/Projects/inria/camcan_analysis/data/debug/CC620466/tmp.mris_preproc.8872/CC620466.1.mgh --sval /home/okozyn/Projects/inria/camcan_analysis/data/freesurfer/CC620466/surf/lh.area --jac --sfmt curv --noreshape --cortex \n",
      "\n",
      "sysname  Linux\n",
      "hostname azzaro\n",
      "machine  x86_64\n",
      "user     okozyn\n",
      "srcsubject = CC620466\n",
      "srcval     = /home/okozyn/Projects/inria/camcan_analysis/data/freesurfer/CC620466/surf/lh.area\n",
      "srctype    = curv\n",
      "trgsubject = fsaverage4\n",
      "trgval     = /home/okozyn/Projects/inria/camcan_analysis/data/debug/CC620466/tmp.mris_preproc.8872/CC620466.1.mgh\n",
      "trgtype    = \n",
      "srcsurfreg = fsaverage4.sphere.reg\n",
      "trgsurfreg = sphere.reg\n",
      "srchemi    = lh\n",
      "trghemi    = lh\n",
      "frame      = 0\n",
      "fwhm-in    = 0\n",
      "fwhm-out   = 0\n",
      "label-src  = lh.cortex.label\n",
      "label-trg  = lh.cortex.label\n",
      "OKToRevFaceOrder  = 1\n",
      "UseDualHemi = 0\n",
      "Reading source surface reg /home/okozyn/Projects/inria/camcan_analysis/data/freesurfer/CC620466/surf/lh.fsaverage4.sphere.reg\n",
      "No such file or directory\n",
      "mri_surf2surf: could not read surface /home/okozyn/Projects/inria/camcan_analysis/data/freesurfer/CC620466/surf/lh.fsaverage4.sphere.reg\n",
      "No such file or directory\n",
      "\n",
      "ERROR:root:Non zero return code: 1. Bash: b'', cmd: mris_preproc --s CC620466 --target fsaverage4 --hemi lh --meas area --out /home/okozyn/Projects/inria/camcan_analysis/data/debug/CC620466/lh.area.mgh\n",
      "INFO:root:nsubjects = 1\n",
      "tmpdir is /home/okozyn/Projects/inria/camcan_analysis/data/debug/CC620466/tmp.mris_preproc.8944\n",
      "/home/okozyn/Projects/inria/camcan_analysis/notebook/mri\n",
      "Log file is /home/okozyn/Projects/inria/camcan_analysis/data/debug/CC620466/rh.thickness.mris_preproc.log\n",
      "ven  1 mar 2019, 15.58.48, CET\n",
      "setenv SUBJECTS_DIR /home/okozyn/Projects/inria/camcan_analysis/data/freesurfer\n",
      "cd /home/okozyn/Projects/inria/camcan_analysis/notebook/mri\n",
      "/home/okozyn/Programs/freesurfer/bin/mris_preproc --s CC620466 --target fsaverage4 --hemi rh --meas thickness --out /home/okozyn/Projects/inria/camcan_analysis/data/debug/CC620466/rh.thickness.mgh\n",
      "\n",
      "Linux azzaro 4.15.0-45-generic #48-Ubuntu SMP Tue Jan 29 16:28:13 UTC 2019 x86_64 x86_64 x86_64 GNU/Linux\n",
      "$Id: mris_preproc,v 1.76.2.1 2016/08/12 17:55:45 zkaufman Exp $\n",
      "freesurfer-Linux-centos6_x86_64-stable-pub-v6.0.0-2beb96c\n",
      "tmpdir is /home/okozyn/Projects/inria/camcan_analysis/data/debug/CC620466/tmp.mris_preproc.8944\n",
      "Src rh fsaverage4.sphere.reg\n",
      "Trg rh sphere.reg\n",
      "\n",
      "\n",
      "\n",
      "\n",
      "---------------------------------------------------\n",
      "#@# 1/1 CC620466 ven  1 mar 2019, 15.58.48, CET --------------\n",
      "-----------------------\n",
      "mri_surf2surf --srcsubject CC620466 --srchemi rh --srcsurfreg fsaverage4.sphere.reg --trgsubject fsaverage4 --trghemi rh --trgsurfreg sphere.reg --tval /home/okozyn/Projects/inria/camcan_analysis/data/debug/CC620466/tmp.mris_preproc.8944/CC620466.1.mgh --sval /home/okozyn/Projects/inria/camcan_analysis/data/freesurfer/CC620466/surf/rh.thickness --sfmt curv --noreshape --cortex\n",
      "MRISread(/home/okozyn/Projects/inria/camcan_analysis/data/freesurfer/CC620466/surf/rh.fsaverage4.sphere.reg): could not open file\n",
      "Source registration surface changed to fsaverage4.sphere.reg\n",
      "Target registration surface changed to sphere.reg\n",
      "\n",
      "$Id: mri_surf2surf.c,v 1.103 2015/11/05 22:07:33 greve Exp $\n",
      "\n",
      "setenv SUBJECTS_DIR /home/okozyn/Projects/inria/camcan_analysis/data/freesurfer\n",
      "cd /home/okozyn/Projects/inria/camcan_analysis/notebook/mri\n",
      "mri_surf2surf --srcsubject CC620466 --srchemi rh --srcsurfreg fsaverage4.sphere.reg --trgsubject fsaverage4 --trghemi rh --trgsurfreg sphere.reg --tval /home/okozyn/Projects/inria/camcan_analysis/data/debug/CC620466/tmp.mris_preproc.8944/CC620466.1.mgh --sval /home/okozyn/Projects/inria/camcan_analysis/data/freesurfer/CC620466/surf/rh.thickness --sfmt curv --noreshape --cortex \n",
      "\n",
      "sysname  Linux\n",
      "hostname azzaro\n",
      "machine  x86_64\n",
      "user     okozyn\n",
      "srcsubject = CC620466\n",
      "srcval     = /home/okozyn/Projects/inria/camcan_analysis/data/freesurfer/CC620466/surf/rh.thickness\n",
      "srctype    = curv\n",
      "trgsubject = fsaverage4\n",
      "trgval     = /home/okozyn/Projects/inria/camcan_analysis/data/debug/CC620466/tmp.mris_preproc.8944/CC620466.1.mgh\n",
      "trgtype    = \n",
      "srcsurfreg = fsaverage4.sphere.reg\n",
      "trgsurfreg = sphere.reg\n",
      "srchemi    = rh\n",
      "trghemi    = rh\n",
      "frame      = 0\n",
      "fwhm-in    = 0\n",
      "fwhm-out   = 0\n",
      "label-src  = rh.cortex.label\n",
      "label-trg  = rh.cortex.label\n",
      "OKToRevFaceOrder  = 1\n",
      "UseDualHemi = 0\n",
      "Reading source surface reg /home/okozyn/Projects/inria/camcan_analysis/data/freesurfer/CC620466/surf/rh.fsaverage4.sphere.reg\n",
      "No such file or directory\n",
      "mri_surf2surf: could not read surface /home/okozyn/Projects/inria/camcan_analysis/data/freesurfer/CC620466/surf/rh.fsaverage4.sphere.reg\n",
      "No such file or directory\n",
      "\n"
     ]
    },
    {
     "name": "stderr",
     "output_type": "stream",
     "text": [
      "ERROR:root:Non zero return code: 1. Bash: b'', cmd: mris_preproc --s CC620466 --target fsaverage4 --hemi rh --meas thickness --out /home/okozyn/Projects/inria/camcan_analysis/data/debug/CC620466/rh.thickness.mgh\n",
      "INFO:root:nsubjects = 1\n",
      "INFO: turning on jacobican correction\n",
      "tmpdir is /home/okozyn/Projects/inria/camcan_analysis/data/debug/CC620466/tmp.mris_preproc.9016\n",
      "/home/okozyn/Projects/inria/camcan_analysis/notebook/mri\n",
      "Log file is /home/okozyn/Projects/inria/camcan_analysis/data/debug/CC620466/rh.area.mris_preproc.log\n",
      "ven  1 mar 2019, 15.58.48, CET\n",
      "setenv SUBJECTS_DIR /home/okozyn/Projects/inria/camcan_analysis/data/freesurfer\n",
      "cd /home/okozyn/Projects/inria/camcan_analysis/notebook/mri\n",
      "/home/okozyn/Programs/freesurfer/bin/mris_preproc --s CC620466 --target fsaverage4 --hemi rh --meas area --out /home/okozyn/Projects/inria/camcan_analysis/data/debug/CC620466/rh.area.mgh\n",
      "\n",
      "Linux azzaro 4.15.0-45-generic #48-Ubuntu SMP Tue Jan 29 16:28:13 UTC 2019 x86_64 x86_64 x86_64 GNU/Linux\n",
      "$Id: mris_preproc,v 1.76.2.1 2016/08/12 17:55:45 zkaufman Exp $\n",
      "freesurfer-Linux-centos6_x86_64-stable-pub-v6.0.0-2beb96c\n",
      "tmpdir is /home/okozyn/Projects/inria/camcan_analysis/data/debug/CC620466/tmp.mris_preproc.9016\n",
      "Src rh fsaverage4.sphere.reg\n",
      "Trg rh sphere.reg\n",
      "\n",
      "\n",
      "\n",
      "\n",
      "---------------------------------------------------\n",
      "#@# 1/1 CC620466 ven  1 mar 2019, 15.58.48, CET --------------\n",
      "-----------------------\n",
      "mri_surf2surf --srcsubject CC620466 --srchemi rh --srcsurfreg fsaverage4.sphere.reg --trgsubject fsaverage4 --trghemi rh --trgsurfreg sphere.reg --tval /home/okozyn/Projects/inria/camcan_analysis/data/debug/CC620466/tmp.mris_preproc.9016/CC620466.1.mgh --sval /home/okozyn/Projects/inria/camcan_analysis/data/freesurfer/CC620466/surf/rh.area --jac --sfmt curv --noreshape --cortex\n",
      "MRISread(/home/okozyn/Projects/inria/camcan_analysis/data/freesurfer/CC620466/surf/rh.fsaverage4.sphere.reg): could not open file\n",
      "Source registration surface changed to fsaverage4.sphere.reg\n",
      "Target registration surface changed to sphere.reg\n",
      "\n",
      "$Id: mri_surf2surf.c,v 1.103 2015/11/05 22:07:33 greve Exp $\n",
      "\n",
      "setenv SUBJECTS_DIR /home/okozyn/Projects/inria/camcan_analysis/data/freesurfer\n",
      "cd /home/okozyn/Projects/inria/camcan_analysis/notebook/mri\n",
      "mri_surf2surf --srcsubject CC620466 --srchemi rh --srcsurfreg fsaverage4.sphere.reg --trgsubject fsaverage4 --trghemi rh --trgsurfreg sphere.reg --tval /home/okozyn/Projects/inria/camcan_analysis/data/debug/CC620466/tmp.mris_preproc.9016/CC620466.1.mgh --sval /home/okozyn/Projects/inria/camcan_analysis/data/freesurfer/CC620466/surf/rh.area --jac --sfmt curv --noreshape --cortex \n",
      "\n",
      "sysname  Linux\n",
      "hostname azzaro\n",
      "machine  x86_64\n",
      "user     okozyn\n",
      "srcsubject = CC620466\n",
      "srcval     = /home/okozyn/Projects/inria/camcan_analysis/data/freesurfer/CC620466/surf/rh.area\n",
      "srctype    = curv\n",
      "trgsubject = fsaverage4\n",
      "trgval     = /home/okozyn/Projects/inria/camcan_analysis/data/debug/CC620466/tmp.mris_preproc.9016/CC620466.1.mgh\n",
      "trgtype    = \n",
      "srcsurfreg = fsaverage4.sphere.reg\n",
      "trgsurfreg = sphere.reg\n",
      "srchemi    = rh\n",
      "trghemi    = rh\n",
      "frame      = 0\n",
      "fwhm-in    = 0\n",
      "fwhm-out   = 0\n",
      "label-src  = rh.cortex.label\n",
      "label-trg  = rh.cortex.label\n",
      "OKToRevFaceOrder  = 1\n",
      "UseDualHemi = 0\n",
      "Reading source surface reg /home/okozyn/Projects/inria/camcan_analysis/data/freesurfer/CC620466/surf/rh.fsaverage4.sphere.reg\n",
      "No such file or directory\n",
      "mri_surf2surf: could not read surface /home/okozyn/Projects/inria/camcan_analysis/data/freesurfer/CC620466/surf/rh.fsaverage4.sphere.reg\n",
      "No such file or directory\n",
      "\n",
      "ERROR:root:Non zero return code: 1. Bash: b'', cmd: mris_preproc --s CC620466 --target fsaverage4 --hemi rh --meas area --out /home/okozyn/Projects/inria/camcan_analysis/data/debug/CC620466/rh.area.mgh\n"
     ]
    },
    {
     "data": {
      "text/plain": [
       "{'lh_thickness_file': '/home/okozyn/Projects/inria/camcan_analysis/data/debug/CC620466/lh.thickness.mgh',\n",
       " 'lh_area_file': '/home/okozyn/Projects/inria/camcan_analysis/data/debug/CC620466/lh.area.mgh',\n",
       " 'rh_thickness_file': '/home/okozyn/Projects/inria/camcan_analysis/data/debug/CC620466/rh.thickness.mgh',\n",
       " 'rh_area_file': '/home/okozyn/Projects/inria/camcan_analysis/data/debug/CC620466/rh.area.mgh'}"
      ]
     },
     "execution_count": 4,
     "metadata": {},
     "output_type": "execute_result"
    }
   ],
   "source": [
    "subjects_dir = \"/home/okozyn/Projects/inria/camcan_analysis/data/freesurfer\"\n",
    "subject = \"CC620466\"\n",
    "out_dir = \"/home/okozyn/Projects/inria/camcan_analysis/data/debug\"\n",
    "\n",
    "get_cortex_data(subjects_dir, subject, out_dir)"
   ]
  },
  {
   "cell_type": "code",
   "execution_count": null,
   "metadata": {},
   "outputs": [],
   "source": []
  }
 ],
 "metadata": {
  "kernelspec": {
   "display_name": "MNE (Python 3)",
   "language": "python",
   "name": "mne"
  },
  "language_info": {
   "codemirror_mode": {
    "name": "ipython",
    "version": 3
   },
   "file_extension": ".py",
   "mimetype": "text/x-python",
   "name": "python",
   "nbconvert_exporter": "python",
   "pygments_lexer": "ipython3",
   "version": "3.6.8"
  }
 },
 "nbformat": 4,
 "nbformat_minor": 2
}
